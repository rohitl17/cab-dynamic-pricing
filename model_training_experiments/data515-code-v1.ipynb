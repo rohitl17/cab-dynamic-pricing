{
 "cells": [
  {
   "cell_type": "code",
   "execution_count": 35,
   "metadata": {
    "_cell_guid": "79c7e3d0-c299-4dcb-8224-4455121ee9b0",
    "_uuid": "d629ff2d2480ee46fbb7e2d37f6b5fab8052498a",
    "execution": {
     "iopub.execute_input": "2021-01-12T04:27:41.318434Z",
     "iopub.status.busy": "2021-01-12T04:27:41.317711Z",
     "iopub.status.idle": "2021-01-12T04:27:42.430020Z",
     "shell.execute_reply": "2021-01-12T04:27:42.429233Z"
    },
    "papermill": {
     "duration": 1.138714,
     "end_time": "2021-01-12T04:27:42.430156",
     "exception": false,
     "start_time": "2021-01-12T04:27:41.291442",
     "status": "completed"
    },
    "tags": []
   },
   "outputs": [],
   "source": [
    "import numpy as np\n",
    "import pandas as pd\n",
    "\n",
    "from sklearn.model_selection import train_test_split\n",
    "from sklearn.preprocessing import StandardScaler\n",
    "\n",
    "from sklearn.linear_model import LinearRegression\n",
    "\n",
    "from geopy.geocoders import GoogleV3\n",
    "import geopy.distance\n",
    "import googlemaps\n",
    "\n",
    "import matplotlib.pyplot as plt"
   ]
  },
  {
   "cell_type": "code",
   "execution_count": 36,
   "metadata": {},
   "outputs": [],
   "source": [
    "API= add your own API"
   ]
  },
  {
   "cell_type": "code",
   "execution_count": 37,
   "metadata": {
    "execution": {
     "iopub.execute_input": "2021-01-12T04:27:42.484390Z",
     "iopub.status.busy": "2021-01-12T04:27:42.483603Z",
     "iopub.status.idle": "2021-01-12T04:27:44.932745Z",
     "shell.execute_reply": "2021-01-12T04:27:44.933401Z"
    },
    "papermill": {
     "duration": 2.482487,
     "end_time": "2021-01-12T04:27:44.933541",
     "exception": false,
     "start_time": "2021-01-12T04:27:42.451054",
     "status": "completed"
    },
    "tags": []
   },
   "outputs": [],
   "source": [
    "# loading the required datasets\n",
    "\n",
    "cab_df = pd.read_csv('cab_rides.csv')\n",
    "weather_df = pd.read_csv('weather.csv')"
   ]
  },
  {
   "cell_type": "code",
   "execution_count": 38,
   "metadata": {},
   "outputs": [],
   "source": [
    "#To download the dataframe at any point, uncomment the below\n",
    "\n",
    "#from pathlib import Path  \n",
    "#filepath = Path('out_2.csv')  \n",
    "#filepath.parent.mkdir(parents=True, exist_ok=True)  \n",
    "#new_df.to_csv(filepath)"
   ]
  },
  {
   "cell_type": "code",
   "execution_count": 39,
   "metadata": {
    "execution": {
     "iopub.execute_input": "2021-01-12T04:27:45.068186Z",
     "iopub.status.busy": "2021-01-12T04:27:45.067546Z",
     "iopub.status.idle": "2021-01-12T04:27:45.531722Z",
     "shell.execute_reply": "2021-01-12T04:27:45.530120Z"
    },
    "papermill": {
     "duration": 0.490545,
     "end_time": "2021-01-12T04:27:45.531947",
     "exception": false,
     "start_time": "2021-01-12T04:27:45.041402",
     "status": "completed"
    },
    "tags": []
   },
   "outputs": [
    {
     "name": "stdout",
     "output_type": "stream",
     "text": [
      "<class 'pandas.core.frame.DataFrame'>\n",
      "RangeIndex: 693071 entries, 0 to 693070\n",
      "Data columns (total 10 columns):\n",
      " #   Column            Non-Null Count   Dtype  \n",
      "---  ------            --------------   -----  \n",
      " 0   distance          693071 non-null  float64\n",
      " 1   cab_type          693071 non-null  object \n",
      " 2   time_stamp        693071 non-null  int64  \n",
      " 3   destination       693071 non-null  object \n",
      " 4   source            693071 non-null  object \n",
      " 5   price             637976 non-null  float64\n",
      " 6   surge_multiplier  693071 non-null  float64\n",
      " 7   id                693071 non-null  object \n",
      " 8   product_id        693071 non-null  object \n",
      " 9   name              693071 non-null  object \n",
      "dtypes: float64(3), int64(1), object(6)\n",
      "memory usage: 52.9+ MB\n"
     ]
    }
   ],
   "source": [
    "cab_df.info()"
   ]
  },
  {
   "cell_type": "code",
   "execution_count": 40,
   "metadata": {
    "execution": {
     "iopub.execute_input": "2021-01-12T04:27:45.666201Z",
     "iopub.status.busy": "2021-01-12T04:27:45.660360Z",
     "iopub.status.idle": "2021-01-12T04:27:45.670218Z",
     "shell.execute_reply": "2021-01-12T04:27:45.671075Z"
    },
    "papermill": {
     "duration": 0.040336,
     "end_time": "2021-01-12T04:27:45.671294",
     "exception": false,
     "start_time": "2021-01-12T04:27:45.630958",
     "status": "completed"
    },
    "tags": []
   },
   "outputs": [
    {
     "name": "stdout",
     "output_type": "stream",
     "text": [
      "<class 'pandas.core.frame.DataFrame'>\n",
      "RangeIndex: 6276 entries, 0 to 6275\n",
      "Data columns (total 8 columns):\n",
      " #   Column      Non-Null Count  Dtype  \n",
      "---  ------      --------------  -----  \n",
      " 0   temp        6276 non-null   float64\n",
      " 1   location    6276 non-null   object \n",
      " 2   clouds      6276 non-null   float64\n",
      " 3   pressure    6276 non-null   float64\n",
      " 4   rain        894 non-null    float64\n",
      " 5   time_stamp  6276 non-null   int64  \n",
      " 6   humidity    6276 non-null   float64\n",
      " 7   wind        6276 non-null   float64\n",
      "dtypes: float64(6), int64(1), object(1)\n",
      "memory usage: 392.4+ KB\n"
     ]
    }
   ],
   "source": [
    "weather_df.info()"
   ]
  },
  {
   "cell_type": "code",
   "execution_count": 41,
   "metadata": {},
   "outputs": [],
   "source": [
    "#plt.hist(cab_df['surge_multiplier'])"
   ]
  },
  {
   "cell_type": "code",
   "execution_count": 42,
   "metadata": {
    "execution": {
     "iopub.execute_input": "2021-01-12T04:27:46.281942Z",
     "iopub.status.busy": "2021-01-12T04:27:46.281230Z",
     "iopub.status.idle": "2021-01-12T04:27:46.303266Z",
     "shell.execute_reply": "2021-01-12T04:27:46.302729Z"
    },
    "papermill": {
     "duration": 0.485057,
     "end_time": "2021-01-12T04:27:46.303414",
     "exception": false,
     "start_time": "2021-01-12T04:27:45.818357",
     "status": "completed"
    },
    "tags": []
   },
   "outputs": [],
   "source": [
    "#Dropping rows where price value is missing\n",
    "cab_df.isna().sum() #Returning number of missing values in each column\n",
    "cab_df = cab_df.dropna(axis=0).reset_index(drop=True)\n",
    "cab_df.isna().sum()\n",
    "\n",
    "#replacing missing rain data with 0\n",
    "weather_df.isna().sum()\n",
    "weather_df = weather_df.fillna(0)"
   ]
  },
  {
   "cell_type": "code",
   "execution_count": 43,
   "metadata": {},
   "outputs": [],
   "source": [
    "weather_df['date_time'] = pd.to_datetime(weather_df['time_stamp'], unit='s')\n",
    "weather_df['time_hour'] = pd.to_datetime(weather_df['date_time']).dt.hour\n",
    "weather_df['time_day'] = pd.to_datetime(weather_df['date_time']).dt.weekday\n",
    "weather_df['time_month'] = pd.to_datetime(weather_df['date_time']).dt.month\n",
    "weather_df['time_date'] = pd.to_datetime(weather_df['date_time']).dt.day\n",
    "#Monday is defined as 0, Sunday is defined as 6"
   ]
  },
  {
   "cell_type": "code",
   "execution_count": 44,
   "metadata": {},
   "outputs": [],
   "source": [
    "weather_df['rush_hr'] = 0 # add a class column with 0 as default value\n",
    "\n",
    "# find all rows that fulfills your conditions and set class to 1\n",
    "weather_df.loc[((weather_df['time_hour'] >= 6) & \n",
    "       (weather_df['time_hour'] < 10)) |\n",
    "       (weather_df['time_hour'] >= 15) & \n",
    "       (weather_df['time_hour'] < 19),\n",
    "       'rush_hr'] = 1 "
   ]
  },
  {
   "cell_type": "code",
   "execution_count": 45,
   "metadata": {
    "scrolled": true
   },
   "outputs": [],
   "source": [
    "cab_df['date_time'] = pd.to_datetime(cab_df['time_stamp'], unit='ms')"
   ]
  },
  {
   "cell_type": "code",
   "execution_count": 46,
   "metadata": {},
   "outputs": [],
   "source": [
    "weather_df['rush_hr'] = 0 # add a class column with 0 as default value\n",
    "\n",
    "# find all rows that fulfills your conditions and set class to 1\n",
    "weather_df.loc[((weather_df['time_hour'] >= 6) & \n",
    "       (weather_df['time_hour'] < 10)) |\n",
    "       (weather_df['time_hour'] >= 15) & \n",
    "       (weather_df['time_hour'] < 19),\n",
    "       'rush_hr'] = 1 "
   ]
  },
  {
   "cell_type": "code",
   "execution_count": 47,
   "metadata": {},
   "outputs": [],
   "source": [
    "# to convert the date into 365 day format\n",
    "weather_df['DOY'] = pd.to_datetime(weather_df['date_time']).dt.dayofyear"
   ]
  },
  {
   "cell_type": "markdown",
   "metadata": {},
   "source": [
    "### To extract the output file"
   ]
  },
  {
   "cell_type": "code",
   "execution_count": 48,
   "metadata": {},
   "outputs": [],
   "source": [
    "#from pathlib import Path  \n",
    "#filepath = Path('out.csv')  \n",
    "#filepath.parent.mkdir(parents=True, exist_ok=True)  \n",
    "#weather_df.to_csv(filepath)"
   ]
  },
  {
   "cell_type": "code",
   "execution_count": null,
   "metadata": {},
   "outputs": [],
   "source": []
  },
  {
   "cell_type": "markdown",
   "metadata": {},
   "source": [
    "### To append \", Boston\" for the location"
   ]
  },
  {
   "cell_type": "code",
   "execution_count": 49,
   "metadata": {},
   "outputs": [],
   "source": [
    "weather_df['location'] = weather_df['location'] + ' Boston'"
   ]
  },
  {
   "cell_type": "code",
   "execution_count": 50,
   "metadata": {},
   "outputs": [],
   "source": [
    "cab_df['date_time'] = pd.to_datetime(cab_df['time_stamp'], unit='ms')\n",
    "cab_df['date_time'] = cab_df['date_time'].dt.floor('s')\n",
    "cab_df['destination'] = cab_df['destination'] + ' Boston'\n",
    "cab_df['source'] = cab_df['source']+ ' Boston'"
   ]
  },
  {
   "cell_type": "markdown",
   "metadata": {},
   "source": [
    "### Get the Lat and Long columns"
   ]
  },
  {
   "cell_type": "code",
   "execution_count": 51,
   "metadata": {},
   "outputs": [],
   "source": [
    "geolocator = GoogleV3(api_key=API)\n",
    "location = [x for x in weather_df['location'].unique().tolist() \n",
    "            if type(x) == str]\n",
    "latitude = []\n",
    "longitude =  []\n",
    "for i in range(0, len(location)):\n",
    "    # remove things that does not seem usefull here\n",
    "    try:\n",
    "        address = location[i]\n",
    "        loc = geolocator.geocode(address)\n",
    "        latitude.append(loc.latitude)\n",
    "        longitude.append(loc.longitude)\n",
    "    except:\n",
    "        # in the case the geolocator does not work, then add nan element to list\n",
    "        # to keep the right size\n",
    "        latitude.append(np.nan)\n",
    "        longitude.append(np.nan)\n",
    "# create a dataframe with the location, latitude and longitude\n",
    "loc_df = pd.DataFrame({'location':location, \n",
    "                    'location_latitude': latitude,\n",
    "                    'location_longitude':longitude})\n",
    "# merge on weather_df and cab_df with loc_df to get the column \n",
    "weather_df = weather_df.merge(loc_df, on='location', how='left')\n"
   ]
  },
  {
   "cell_type": "code",
   "execution_count": 52,
   "metadata": {},
   "outputs": [],
   "source": [
    "merged_df = cab_df.merge(weather_df, how='inner', left_on=['date_time', 'source'], right_on=['date_time', 'location'])"
   ]
  },
  {
   "cell_type": "code",
   "execution_count": 53,
   "metadata": {},
   "outputs": [
    {
     "data": {
      "text/plain": [
       "Index(['distance', 'cab_type', 'time_stamp_x', 'destination', 'source',\n",
       "       'price', 'surge_multiplier', 'id', 'product_id', 'name', 'date_time',\n",
       "       'temp', 'location', 'clouds', 'pressure', 'rain', 'time_stamp_y',\n",
       "       'humidity', 'wind', 'time_hour', 'time_day', 'time_month', 'time_date',\n",
       "       'rush_hr', 'DOY', 'location_latitude', 'location_longitude'],\n",
       "      dtype='object')"
      ]
     },
     "execution_count": 53,
     "metadata": {},
     "output_type": "execute_result"
    }
   ],
   "source": [
    "merged_df.columns"
   ]
  },
  {
   "cell_type": "code",
   "execution_count": 54,
   "metadata": {},
   "outputs": [],
   "source": [
    "#Making surge_multiplier as a discrete variable.\n",
    "merged_df.loc[merged_df.surge_multiplier == 1, \"surge_mult_d\"] = 1\n",
    "merged_df.loc[merged_df.surge_multiplier == 1.25, \"surge_mult_d\"] = 2\n",
    "merged_df.loc[merged_df.surge_multiplier == 1.5, \"surge_mult_d\"] = 3\n",
    "merged_df.loc[merged_df.surge_multiplier == 1.75, \"surge_mult_d\"] = 4\n",
    "merged_df.loc[merged_df.surge_multiplier == 2, \"surge_mult_d\"] = 5"
   ]
  },
  {
   "cell_type": "code",
   "execution_count": 55,
   "metadata": {},
   "outputs": [],
   "source": [
    "# temp, pressure, clouds, rain, humidity, wind, rush hr, DOY, lat, long\n",
    "# ground truth = surge_multiplier"
   ]
  },
  {
   "cell_type": "code",
   "execution_count": 56,
   "metadata": {},
   "outputs": [
    {
     "data": {
      "text/html": [
       "<div>\n",
       "<style scoped>\n",
       "    .dataframe tbody tr th:only-of-type {\n",
       "        vertical-align: middle;\n",
       "    }\n",
       "\n",
       "    .dataframe tbody tr th {\n",
       "        vertical-align: top;\n",
       "    }\n",
       "\n",
       "    .dataframe thead th {\n",
       "        text-align: right;\n",
       "    }\n",
       "</style>\n",
       "<table border=\"1\" class=\"dataframe\">\n",
       "  <thead>\n",
       "    <tr style=\"text-align: right;\">\n",
       "      <th></th>\n",
       "      <th>distance</th>\n",
       "      <th>cab_type</th>\n",
       "      <th>time_stamp_x</th>\n",
       "      <th>destination</th>\n",
       "      <th>source</th>\n",
       "      <th>price</th>\n",
       "      <th>surge_multiplier</th>\n",
       "      <th>id</th>\n",
       "      <th>product_id</th>\n",
       "      <th>name</th>\n",
       "      <th>...</th>\n",
       "      <th>wind</th>\n",
       "      <th>time_hour</th>\n",
       "      <th>time_day</th>\n",
       "      <th>time_month</th>\n",
       "      <th>time_date</th>\n",
       "      <th>rush_hr</th>\n",
       "      <th>DOY</th>\n",
       "      <th>location_latitude</th>\n",
       "      <th>location_longitude</th>\n",
       "      <th>surge_mult_d</th>\n",
       "    </tr>\n",
       "  </thead>\n",
       "  <tbody>\n",
       "    <tr>\n",
       "      <th>0</th>\n",
       "      <td>0.55</td>\n",
       "      <td>Uber</td>\n",
       "      <td>1543426327706</td>\n",
       "      <td>South Station Boston</td>\n",
       "      <td>Theatre District Boston</td>\n",
       "      <td>7.0</td>\n",
       "      <td>1.0</td>\n",
       "      <td>74b72f4c-28bc-4640-a427-ec60b4b11f82</td>\n",
       "      <td>55c66225-fbe7-4fd5-9072-eab1ece5e23e</td>\n",
       "      <td>UberX</td>\n",
       "      <td>...</td>\n",
       "      <td>9.93</td>\n",
       "      <td>17</td>\n",
       "      <td>2</td>\n",
       "      <td>11</td>\n",
       "      <td>28</td>\n",
       "      <td>1</td>\n",
       "      <td>332</td>\n",
       "      <td>42.351866</td>\n",
       "      <td>-71.064262</td>\n",
       "      <td>1.0</td>\n",
       "    </tr>\n",
       "    <tr>\n",
       "      <th>1</th>\n",
       "      <td>1.57</td>\n",
       "      <td>Uber</td>\n",
       "      <td>1543426327658</td>\n",
       "      <td>North End Boston</td>\n",
       "      <td>Theatre District Boston</td>\n",
       "      <td>18.0</td>\n",
       "      <td>1.0</td>\n",
       "      <td>e5aa2477-afb5-4b83-a69d-18ee7d2bfd1d</td>\n",
       "      <td>6c84fd89-3f11-4782-9b50-97c468b19529</td>\n",
       "      <td>Black</td>\n",
       "      <td>...</td>\n",
       "      <td>9.93</td>\n",
       "      <td>17</td>\n",
       "      <td>2</td>\n",
       "      <td>11</td>\n",
       "      <td>28</td>\n",
       "      <td>1</td>\n",
       "      <td>332</td>\n",
       "      <td>42.351866</td>\n",
       "      <td>-71.064262</td>\n",
       "      <td>1.0</td>\n",
       "    </tr>\n",
       "    <tr>\n",
       "      <th>2</th>\n",
       "      <td>2.12</td>\n",
       "      <td>Lyft</td>\n",
       "      <td>1543426327658</td>\n",
       "      <td>Northeastern University Boston</td>\n",
       "      <td>Theatre District Boston</td>\n",
       "      <td>10.5</td>\n",
       "      <td>1.0</td>\n",
       "      <td>4d24470f-167a-4d1f-9cab-c123a0713491</td>\n",
       "      <td>lyft</td>\n",
       "      <td>Lyft</td>\n",
       "      <td>...</td>\n",
       "      <td>9.93</td>\n",
       "      <td>17</td>\n",
       "      <td>2</td>\n",
       "      <td>11</td>\n",
       "      <td>28</td>\n",
       "      <td>1</td>\n",
       "      <td>332</td>\n",
       "      <td>42.351866</td>\n",
       "      <td>-71.064262</td>\n",
       "      <td>1.0</td>\n",
       "    </tr>\n",
       "    <tr>\n",
       "      <th>3</th>\n",
       "      <td>2.12</td>\n",
       "      <td>Lyft</td>\n",
       "      <td>1543426327658</td>\n",
       "      <td>Northeastern University Boston</td>\n",
       "      <td>Theatre District Boston</td>\n",
       "      <td>7.0</td>\n",
       "      <td>1.0</td>\n",
       "      <td>7902bfaf-5987-499b-9c04-222f4182c581</td>\n",
       "      <td>lyft_line</td>\n",
       "      <td>Shared</td>\n",
       "      <td>...</td>\n",
       "      <td>9.93</td>\n",
       "      <td>17</td>\n",
       "      <td>2</td>\n",
       "      <td>11</td>\n",
       "      <td>28</td>\n",
       "      <td>1</td>\n",
       "      <td>332</td>\n",
       "      <td>42.351866</td>\n",
       "      <td>-71.064262</td>\n",
       "      <td>1.0</td>\n",
       "    </tr>\n",
       "    <tr>\n",
       "      <th>4</th>\n",
       "      <td>2.12</td>\n",
       "      <td>Lyft</td>\n",
       "      <td>1543426327658</td>\n",
       "      <td>Northeastern University Boston</td>\n",
       "      <td>Theatre District Boston</td>\n",
       "      <td>16.5</td>\n",
       "      <td>1.0</td>\n",
       "      <td>91129083-ed19-41fd-b16a-06c729ff0790</td>\n",
       "      <td>lyft_plus</td>\n",
       "      <td>Lyft XL</td>\n",
       "      <td>...</td>\n",
       "      <td>9.93</td>\n",
       "      <td>17</td>\n",
       "      <td>2</td>\n",
       "      <td>11</td>\n",
       "      <td>28</td>\n",
       "      <td>1</td>\n",
       "      <td>332</td>\n",
       "      <td>42.351866</td>\n",
       "      <td>-71.064262</td>\n",
       "      <td>1.0</td>\n",
       "    </tr>\n",
       "    <tr>\n",
       "      <th>...</th>\n",
       "      <td>...</td>\n",
       "      <td>...</td>\n",
       "      <td>...</td>\n",
       "      <td>...</td>\n",
       "      <td>...</td>\n",
       "      <td>...</td>\n",
       "      <td>...</td>\n",
       "      <td>...</td>\n",
       "      <td>...</td>\n",
       "      <td>...</td>\n",
       "      <td>...</td>\n",
       "      <td>...</td>\n",
       "      <td>...</td>\n",
       "      <td>...</td>\n",
       "      <td>...</td>\n",
       "      <td>...</td>\n",
       "      <td>...</td>\n",
       "      <td>...</td>\n",
       "      <td>...</td>\n",
       "      <td>...</td>\n",
       "      <td>...</td>\n",
       "    </tr>\n",
       "    <tr>\n",
       "      <th>3543</th>\n",
       "      <td>0.64</td>\n",
       "      <td>Lyft</td>\n",
       "      <td>1543213743704</td>\n",
       "      <td>West End Boston</td>\n",
       "      <td>Haymarket Square Boston</td>\n",
       "      <td>27.5</td>\n",
       "      <td>1.0</td>\n",
       "      <td>06fb0785-132d-4d59-a147-00655bc1b8f9</td>\n",
       "      <td>lyft_luxsuv</td>\n",
       "      <td>Lux Black XL</td>\n",
       "      <td>...</td>\n",
       "      <td>1.43</td>\n",
       "      <td>6</td>\n",
       "      <td>0</td>\n",
       "      <td>11</td>\n",
       "      <td>26</td>\n",
       "      <td>1</td>\n",
       "      <td>330</td>\n",
       "      <td>42.360082</td>\n",
       "      <td>-71.058880</td>\n",
       "      <td>1.0</td>\n",
       "    </tr>\n",
       "    <tr>\n",
       "      <th>3544</th>\n",
       "      <td>0.64</td>\n",
       "      <td>Lyft</td>\n",
       "      <td>1543213743704</td>\n",
       "      <td>West End Boston</td>\n",
       "      <td>Haymarket Square Boston</td>\n",
       "      <td>16.5</td>\n",
       "      <td>1.0</td>\n",
       "      <td>2be8dbc1-2a40-43e4-9e69-691420768750</td>\n",
       "      <td>lyft_lux</td>\n",
       "      <td>Lux Black</td>\n",
       "      <td>...</td>\n",
       "      <td>1.43</td>\n",
       "      <td>6</td>\n",
       "      <td>0</td>\n",
       "      <td>11</td>\n",
       "      <td>26</td>\n",
       "      <td>1</td>\n",
       "      <td>330</td>\n",
       "      <td>42.360082</td>\n",
       "      <td>-71.058880</td>\n",
       "      <td>1.0</td>\n",
       "    </tr>\n",
       "    <tr>\n",
       "      <th>3545</th>\n",
       "      <td>0.49</td>\n",
       "      <td>Uber</td>\n",
       "      <td>1543399584174</td>\n",
       "      <td>North Station Boston</td>\n",
       "      <td>Haymarket Square Boston</td>\n",
       "      <td>7.0</td>\n",
       "      <td>1.0</td>\n",
       "      <td>9a79355e-26e1-4f81-936e-9fa3aa06f509</td>\n",
       "      <td>997acbb5-e102-41e1-b155-9df7de0a73f2</td>\n",
       "      <td>UberPool</td>\n",
       "      <td>...</td>\n",
       "      <td>5.68</td>\n",
       "      <td>10</td>\n",
       "      <td>2</td>\n",
       "      <td>11</td>\n",
       "      <td>28</td>\n",
       "      <td>0</td>\n",
       "      <td>332</td>\n",
       "      <td>42.360082</td>\n",
       "      <td>-71.058880</td>\n",
       "      <td>1.0</td>\n",
       "    </tr>\n",
       "    <tr>\n",
       "      <th>3546</th>\n",
       "      <td>0.49</td>\n",
       "      <td>Uber</td>\n",
       "      <td>1543399584174</td>\n",
       "      <td>North Station Boston</td>\n",
       "      <td>Haymarket Square Boston</td>\n",
       "      <td>7.0</td>\n",
       "      <td>1.0</td>\n",
       "      <td>f92fafbf-d78b-410b-a957-f15af2022518</td>\n",
       "      <td>55c66225-fbe7-4fd5-9072-eab1ece5e23e</td>\n",
       "      <td>UberX</td>\n",
       "      <td>...</td>\n",
       "      <td>5.68</td>\n",
       "      <td>10</td>\n",
       "      <td>2</td>\n",
       "      <td>11</td>\n",
       "      <td>28</td>\n",
       "      <td>0</td>\n",
       "      <td>332</td>\n",
       "      <td>42.360082</td>\n",
       "      <td>-71.058880</td>\n",
       "      <td>1.0</td>\n",
       "    </tr>\n",
       "    <tr>\n",
       "      <th>3547</th>\n",
       "      <td>0.49</td>\n",
       "      <td>Uber</td>\n",
       "      <td>1543399584174</td>\n",
       "      <td>North Station Boston</td>\n",
       "      <td>Haymarket Square Boston</td>\n",
       "      <td>7.0</td>\n",
       "      <td>1.0</td>\n",
       "      <td>fe3e9738-3d72-4e23-a478-5938dbffbadd</td>\n",
       "      <td>9a0e7b09-b92b-4c41-9779-2ad22b4d779d</td>\n",
       "      <td>WAV</td>\n",
       "      <td>...</td>\n",
       "      <td>5.68</td>\n",
       "      <td>10</td>\n",
       "      <td>2</td>\n",
       "      <td>11</td>\n",
       "      <td>28</td>\n",
       "      <td>0</td>\n",
       "      <td>332</td>\n",
       "      <td>42.360082</td>\n",
       "      <td>-71.058880</td>\n",
       "      <td>1.0</td>\n",
       "    </tr>\n",
       "  </tbody>\n",
       "</table>\n",
       "<p>3548 rows × 28 columns</p>\n",
       "</div>"
      ],
      "text/plain": [
       "      distance cab_type   time_stamp_x                     destination  \\\n",
       "0         0.55     Uber  1543426327706            South Station Boston   \n",
       "1         1.57     Uber  1543426327658                North End Boston   \n",
       "2         2.12     Lyft  1543426327658  Northeastern University Boston   \n",
       "3         2.12     Lyft  1543426327658  Northeastern University Boston   \n",
       "4         2.12     Lyft  1543426327658  Northeastern University Boston   \n",
       "...        ...      ...            ...                             ...   \n",
       "3543      0.64     Lyft  1543213743704                 West End Boston   \n",
       "3544      0.64     Lyft  1543213743704                 West End Boston   \n",
       "3545      0.49     Uber  1543399584174            North Station Boston   \n",
       "3546      0.49     Uber  1543399584174            North Station Boston   \n",
       "3547      0.49     Uber  1543399584174            North Station Boston   \n",
       "\n",
       "                       source  price  surge_multiplier  \\\n",
       "0     Theatre District Boston    7.0               1.0   \n",
       "1     Theatre District Boston   18.0               1.0   \n",
       "2     Theatre District Boston   10.5               1.0   \n",
       "3     Theatre District Boston    7.0               1.0   \n",
       "4     Theatre District Boston   16.5               1.0   \n",
       "...                       ...    ...               ...   \n",
       "3543  Haymarket Square Boston   27.5               1.0   \n",
       "3544  Haymarket Square Boston   16.5               1.0   \n",
       "3545  Haymarket Square Boston    7.0               1.0   \n",
       "3546  Haymarket Square Boston    7.0               1.0   \n",
       "3547  Haymarket Square Boston    7.0               1.0   \n",
       "\n",
       "                                        id  \\\n",
       "0     74b72f4c-28bc-4640-a427-ec60b4b11f82   \n",
       "1     e5aa2477-afb5-4b83-a69d-18ee7d2bfd1d   \n",
       "2     4d24470f-167a-4d1f-9cab-c123a0713491   \n",
       "3     7902bfaf-5987-499b-9c04-222f4182c581   \n",
       "4     91129083-ed19-41fd-b16a-06c729ff0790   \n",
       "...                                    ...   \n",
       "3543  06fb0785-132d-4d59-a147-00655bc1b8f9   \n",
       "3544  2be8dbc1-2a40-43e4-9e69-691420768750   \n",
       "3545  9a79355e-26e1-4f81-936e-9fa3aa06f509   \n",
       "3546  f92fafbf-d78b-410b-a957-f15af2022518   \n",
       "3547  fe3e9738-3d72-4e23-a478-5938dbffbadd   \n",
       "\n",
       "                                product_id          name  ...  wind  \\\n",
       "0     55c66225-fbe7-4fd5-9072-eab1ece5e23e         UberX  ...  9.93   \n",
       "1     6c84fd89-3f11-4782-9b50-97c468b19529         Black  ...  9.93   \n",
       "2                                     lyft          Lyft  ...  9.93   \n",
       "3                                lyft_line        Shared  ...  9.93   \n",
       "4                                lyft_plus       Lyft XL  ...  9.93   \n",
       "...                                    ...           ...  ...   ...   \n",
       "3543                           lyft_luxsuv  Lux Black XL  ...  1.43   \n",
       "3544                              lyft_lux     Lux Black  ...  1.43   \n",
       "3545  997acbb5-e102-41e1-b155-9df7de0a73f2      UberPool  ...  5.68   \n",
       "3546  55c66225-fbe7-4fd5-9072-eab1ece5e23e         UberX  ...  5.68   \n",
       "3547  9a0e7b09-b92b-4c41-9779-2ad22b4d779d           WAV  ...  5.68   \n",
       "\n",
       "      time_hour time_day  time_month  time_date  rush_hr  DOY  \\\n",
       "0            17        2          11         28        1  332   \n",
       "1            17        2          11         28        1  332   \n",
       "2            17        2          11         28        1  332   \n",
       "3            17        2          11         28        1  332   \n",
       "4            17        2          11         28        1  332   \n",
       "...         ...      ...         ...        ...      ...  ...   \n",
       "3543          6        0          11         26        1  330   \n",
       "3544          6        0          11         26        1  330   \n",
       "3545         10        2          11         28        0  332   \n",
       "3546         10        2          11         28        0  332   \n",
       "3547         10        2          11         28        0  332   \n",
       "\n",
       "      location_latitude  location_longitude  surge_mult_d  \n",
       "0             42.351866          -71.064262           1.0  \n",
       "1             42.351866          -71.064262           1.0  \n",
       "2             42.351866          -71.064262           1.0  \n",
       "3             42.351866          -71.064262           1.0  \n",
       "4             42.351866          -71.064262           1.0  \n",
       "...                 ...                 ...           ...  \n",
       "3543          42.360082          -71.058880           1.0  \n",
       "3544          42.360082          -71.058880           1.0  \n",
       "3545          42.360082          -71.058880           1.0  \n",
       "3546          42.360082          -71.058880           1.0  \n",
       "3547          42.360082          -71.058880           1.0  \n",
       "\n",
       "[3548 rows x 28 columns]"
      ]
     },
     "execution_count": 56,
     "metadata": {},
     "output_type": "execute_result"
    }
   ],
   "source": [
    "merged_df"
   ]
  },
  {
   "cell_type": "code",
   "execution_count": 57,
   "metadata": {},
   "outputs": [],
   "source": [
    "#defininf x and y variables\n",
    "x = merged_df[['temp','clouds','pressure','rain','humidity','wind',\n",
    "            'rush_hr', 'DOY', 'location_latitude','location_longitude']]\n",
    "y = merged_df[['surge_mult_d']]"
   ]
  },
  {
   "cell_type": "code",
   "execution_count": 58,
   "metadata": {},
   "outputs": [
    {
     "data": {
      "text/plain": [
       "array([1.  , 1.75, 2.  , 1.25, 1.5 ])"
      ]
     },
     "execution_count": 58,
     "metadata": {},
     "output_type": "execute_result"
    }
   ],
   "source": [
    "merged_df.surge_multiplier.unique()"
   ]
  },
  {
   "cell_type": "code",
   "execution_count": 59,
   "metadata": {},
   "outputs": [],
   "source": [
    "#plt.hist(merged_df['surge_mult_d'])"
   ]
  },
  {
   "cell_type": "code",
   "execution_count": 60,
   "metadata": {},
   "outputs": [],
   "source": [
    "#plt.hist(merged_df['surge_multiplier'])"
   ]
  },
  {
   "cell_type": "code",
   "execution_count": 61,
   "metadata": {},
   "outputs": [],
   "source": [
    "x_train, x_test, y_train, y_test = train_test_split(x, y,\n",
    "                                                    stratify=y, \n",
    "                                                    test_size=0.25)"
   ]
  },
  {
   "cell_type": "code",
   "execution_count": 62,
   "metadata": {},
   "outputs": [
    {
     "data": {
      "text/html": [
       "<div>\n",
       "<style scoped>\n",
       "    .dataframe tbody tr th:only-of-type {\n",
       "        vertical-align: middle;\n",
       "    }\n",
       "\n",
       "    .dataframe tbody tr th {\n",
       "        vertical-align: top;\n",
       "    }\n",
       "\n",
       "    .dataframe thead th {\n",
       "        text-align: right;\n",
       "    }\n",
       "</style>\n",
       "<table border=\"1\" class=\"dataframe\">\n",
       "  <thead>\n",
       "    <tr style=\"text-align: right;\">\n",
       "      <th></th>\n",
       "      <th>temp</th>\n",
       "      <th>clouds</th>\n",
       "      <th>pressure</th>\n",
       "      <th>rain</th>\n",
       "      <th>humidity</th>\n",
       "      <th>wind</th>\n",
       "      <th>rush_hr</th>\n",
       "      <th>DOY</th>\n",
       "      <th>location_latitude</th>\n",
       "      <th>location_longitude</th>\n",
       "    </tr>\n",
       "  </thead>\n",
       "  <tbody>\n",
       "    <tr>\n",
       "      <th>1556</th>\n",
       "      <td>40.44</td>\n",
       "      <td>0.92</td>\n",
       "      <td>1013.75</td>\n",
       "      <td>0.000</td>\n",
       "      <td>0.93</td>\n",
       "      <td>2.96</td>\n",
       "      <td>0</td>\n",
       "      <td>330</td>\n",
       "      <td>42.342865</td>\n",
       "      <td>-71.100288</td>\n",
       "    </tr>\n",
       "    <tr>\n",
       "      <th>682</th>\n",
       "      <td>41.11</td>\n",
       "      <td>0.98</td>\n",
       "      <td>1014.35</td>\n",
       "      <td>0.000</td>\n",
       "      <td>0.92</td>\n",
       "      <td>1.81</td>\n",
       "      <td>1</td>\n",
       "      <td>330</td>\n",
       "      <td>42.366442</td>\n",
       "      <td>-71.061974</td>\n",
       "    </tr>\n",
       "    <tr>\n",
       "      <th>2665</th>\n",
       "      <td>40.49</td>\n",
       "      <td>0.85</td>\n",
       "      <td>994.06</td>\n",
       "      <td>0.000</td>\n",
       "      <td>0.65</td>\n",
       "      <td>9.59</td>\n",
       "      <td>0</td>\n",
       "      <td>332</td>\n",
       "      <td>42.364702</td>\n",
       "      <td>-71.054234</td>\n",
       "    </tr>\n",
       "    <tr>\n",
       "      <th>1645</th>\n",
       "      <td>37.94</td>\n",
       "      <td>0.76</td>\n",
       "      <td>996.81</td>\n",
       "      <td>0.000</td>\n",
       "      <td>0.71</td>\n",
       "      <td>11.19</td>\n",
       "      <td>0</td>\n",
       "      <td>333</td>\n",
       "      <td>42.351922</td>\n",
       "      <td>-71.055070</td>\n",
       "    </tr>\n",
       "    <tr>\n",
       "      <th>1206</th>\n",
       "      <td>40.76</td>\n",
       "      <td>1.00</td>\n",
       "      <td>993.28</td>\n",
       "      <td>0.000</td>\n",
       "      <td>0.66</td>\n",
       "      <td>9.83</td>\n",
       "      <td>0</td>\n",
       "      <td>332</td>\n",
       "      <td>42.366442</td>\n",
       "      <td>-71.061974</td>\n",
       "    </tr>\n",
       "    <tr>\n",
       "      <th>...</th>\n",
       "      <td>...</td>\n",
       "      <td>...</td>\n",
       "      <td>...</td>\n",
       "      <td>...</td>\n",
       "      <td>...</td>\n",
       "      <td>...</td>\n",
       "      <td>...</td>\n",
       "      <td>...</td>\n",
       "      <td>...</td>\n",
       "      <td>...</td>\n",
       "    </tr>\n",
       "    <tr>\n",
       "      <th>3265</th>\n",
       "      <td>38.65</td>\n",
       "      <td>0.50</td>\n",
       "      <td>997.93</td>\n",
       "      <td>0.002</td>\n",
       "      <td>0.70</td>\n",
       "      <td>10.51</td>\n",
       "      <td>0</td>\n",
       "      <td>333</td>\n",
       "      <td>42.351922</td>\n",
       "      <td>-71.055070</td>\n",
       "    </tr>\n",
       "    <tr>\n",
       "      <th>3318</th>\n",
       "      <td>37.82</td>\n",
       "      <td>0.45</td>\n",
       "      <td>998.91</td>\n",
       "      <td>0.000</td>\n",
       "      <td>0.70</td>\n",
       "      <td>9.41</td>\n",
       "      <td>0</td>\n",
       "      <td>333</td>\n",
       "      <td>42.360082</td>\n",
       "      <td>-71.058880</td>\n",
       "    </tr>\n",
       "    <tr>\n",
       "      <th>1082</th>\n",
       "      <td>38.54</td>\n",
       "      <td>0.67</td>\n",
       "      <td>997.22</td>\n",
       "      <td>0.000</td>\n",
       "      <td>0.71</td>\n",
       "      <td>10.07</td>\n",
       "      <td>0</td>\n",
       "      <td>333</td>\n",
       "      <td>42.366442</td>\n",
       "      <td>-71.061974</td>\n",
       "    </tr>\n",
       "    <tr>\n",
       "      <th>2056</th>\n",
       "      <td>40.72</td>\n",
       "      <td>1.00</td>\n",
       "      <td>1014.75</td>\n",
       "      <td>0.000</td>\n",
       "      <td>0.94</td>\n",
       "      <td>1.36</td>\n",
       "      <td>1</td>\n",
       "      <td>330</td>\n",
       "      <td>42.342865</td>\n",
       "      <td>-71.100288</td>\n",
       "    </tr>\n",
       "    <tr>\n",
       "      <th>2505</th>\n",
       "      <td>37.97</td>\n",
       "      <td>0.55</td>\n",
       "      <td>991.86</td>\n",
       "      <td>0.000</td>\n",
       "      <td>0.69</td>\n",
       "      <td>6.53</td>\n",
       "      <td>0</td>\n",
       "      <td>332</td>\n",
       "      <td>42.342865</td>\n",
       "      <td>-71.100288</td>\n",
       "    </tr>\n",
       "  </tbody>\n",
       "</table>\n",
       "<p>887 rows × 10 columns</p>\n",
       "</div>"
      ],
      "text/plain": [
       "       temp  clouds  pressure   rain  humidity   wind  rush_hr  DOY  \\\n",
       "1556  40.44    0.92   1013.75  0.000      0.93   2.96        0  330   \n",
       "682   41.11    0.98   1014.35  0.000      0.92   1.81        1  330   \n",
       "2665  40.49    0.85    994.06  0.000      0.65   9.59        0  332   \n",
       "1645  37.94    0.76    996.81  0.000      0.71  11.19        0  333   \n",
       "1206  40.76    1.00    993.28  0.000      0.66   9.83        0  332   \n",
       "...     ...     ...       ...    ...       ...    ...      ...  ...   \n",
       "3265  38.65    0.50    997.93  0.002      0.70  10.51        0  333   \n",
       "3318  37.82    0.45    998.91  0.000      0.70   9.41        0  333   \n",
       "1082  38.54    0.67    997.22  0.000      0.71  10.07        0  333   \n",
       "2056  40.72    1.00   1014.75  0.000      0.94   1.36        1  330   \n",
       "2505  37.97    0.55    991.86  0.000      0.69   6.53        0  332   \n",
       "\n",
       "      location_latitude  location_longitude  \n",
       "1556          42.342865          -71.100288  \n",
       "682           42.366442          -71.061974  \n",
       "2665          42.364702          -71.054234  \n",
       "1645          42.351922          -71.055070  \n",
       "1206          42.366442          -71.061974  \n",
       "...                 ...                 ...  \n",
       "3265          42.351922          -71.055070  \n",
       "3318          42.360082          -71.058880  \n",
       "1082          42.366442          -71.061974  \n",
       "2056          42.342865          -71.100288  \n",
       "2505          42.342865          -71.100288  \n",
       "\n",
       "[887 rows x 10 columns]"
      ]
     },
     "execution_count": 62,
     "metadata": {},
     "output_type": "execute_result"
    }
   ],
   "source": [
    "x_test"
   ]
  },
  {
   "cell_type": "code",
   "execution_count": 63,
   "metadata": {},
   "outputs": [
    {
     "data": {
      "text/html": [
       "<div>\n",
       "<style scoped>\n",
       "    .dataframe tbody tr th:only-of-type {\n",
       "        vertical-align: middle;\n",
       "    }\n",
       "\n",
       "    .dataframe tbody tr th {\n",
       "        vertical-align: top;\n",
       "    }\n",
       "\n",
       "    .dataframe thead th {\n",
       "        text-align: right;\n",
       "    }\n",
       "</style>\n",
       "<table border=\"1\" class=\"dataframe\">\n",
       "  <thead>\n",
       "    <tr style=\"text-align: right;\">\n",
       "      <th></th>\n",
       "      <th>surge_mult_d</th>\n",
       "    </tr>\n",
       "  </thead>\n",
       "  <tbody>\n",
       "    <tr>\n",
       "      <th>1556</th>\n",
       "      <td>1.0</td>\n",
       "    </tr>\n",
       "    <tr>\n",
       "      <th>682</th>\n",
       "      <td>1.0</td>\n",
       "    </tr>\n",
       "    <tr>\n",
       "      <th>2665</th>\n",
       "      <td>1.0</td>\n",
       "    </tr>\n",
       "    <tr>\n",
       "      <th>1645</th>\n",
       "      <td>1.0</td>\n",
       "    </tr>\n",
       "    <tr>\n",
       "      <th>1206</th>\n",
       "      <td>1.0</td>\n",
       "    </tr>\n",
       "    <tr>\n",
       "      <th>...</th>\n",
       "      <td>...</td>\n",
       "    </tr>\n",
       "    <tr>\n",
       "      <th>3265</th>\n",
       "      <td>1.0</td>\n",
       "    </tr>\n",
       "    <tr>\n",
       "      <th>3318</th>\n",
       "      <td>1.0</td>\n",
       "    </tr>\n",
       "    <tr>\n",
       "      <th>1082</th>\n",
       "      <td>1.0</td>\n",
       "    </tr>\n",
       "    <tr>\n",
       "      <th>2056</th>\n",
       "      <td>2.0</td>\n",
       "    </tr>\n",
       "    <tr>\n",
       "      <th>2505</th>\n",
       "      <td>2.0</td>\n",
       "    </tr>\n",
       "  </tbody>\n",
       "</table>\n",
       "<p>887 rows × 1 columns</p>\n",
       "</div>"
      ],
      "text/plain": [
       "      surge_mult_d\n",
       "1556           1.0\n",
       "682            1.0\n",
       "2665           1.0\n",
       "1645           1.0\n",
       "1206           1.0\n",
       "...            ...\n",
       "3265           1.0\n",
       "3318           1.0\n",
       "1082           1.0\n",
       "2056           2.0\n",
       "2505           2.0\n",
       "\n",
       "[887 rows x 1 columns]"
      ]
     },
     "execution_count": 63,
     "metadata": {},
     "output_type": "execute_result"
    }
   ],
   "source": [
    "y_test"
   ]
  },
  {
   "cell_type": "code",
   "execution_count": 64,
   "metadata": {},
   "outputs": [
    {
     "data": {
      "text/html": [
       "<div>\n",
       "<style scoped>\n",
       "    .dataframe tbody tr th:only-of-type {\n",
       "        vertical-align: middle;\n",
       "    }\n",
       "\n",
       "    .dataframe tbody tr th {\n",
       "        vertical-align: top;\n",
       "    }\n",
       "\n",
       "    .dataframe thead th {\n",
       "        text-align: right;\n",
       "    }\n",
       "</style>\n",
       "<table border=\"1\" class=\"dataframe\">\n",
       "  <thead>\n",
       "    <tr style=\"text-align: right;\">\n",
       "      <th></th>\n",
       "      <th>surge_mult_d</th>\n",
       "    </tr>\n",
       "  </thead>\n",
       "  <tbody>\n",
       "    <tr>\n",
       "      <th>1651</th>\n",
       "      <td>1.0</td>\n",
       "    </tr>\n",
       "    <tr>\n",
       "      <th>2671</th>\n",
       "      <td>1.0</td>\n",
       "    </tr>\n",
       "    <tr>\n",
       "      <th>2459</th>\n",
       "      <td>1.0</td>\n",
       "    </tr>\n",
       "    <tr>\n",
       "      <th>2335</th>\n",
       "      <td>2.0</td>\n",
       "    </tr>\n",
       "    <tr>\n",
       "      <th>1675</th>\n",
       "      <td>1.0</td>\n",
       "    </tr>\n",
       "    <tr>\n",
       "      <th>...</th>\n",
       "      <td>...</td>\n",
       "    </tr>\n",
       "    <tr>\n",
       "      <th>684</th>\n",
       "      <td>1.0</td>\n",
       "    </tr>\n",
       "    <tr>\n",
       "      <th>3362</th>\n",
       "      <td>1.0</td>\n",
       "    </tr>\n",
       "    <tr>\n",
       "      <th>2534</th>\n",
       "      <td>1.0</td>\n",
       "    </tr>\n",
       "    <tr>\n",
       "      <th>2079</th>\n",
       "      <td>1.0</td>\n",
       "    </tr>\n",
       "    <tr>\n",
       "      <th>2620</th>\n",
       "      <td>1.0</td>\n",
       "    </tr>\n",
       "  </tbody>\n",
       "</table>\n",
       "<p>2661 rows × 1 columns</p>\n",
       "</div>"
      ],
      "text/plain": [
       "      surge_mult_d\n",
       "1651           1.0\n",
       "2671           1.0\n",
       "2459           1.0\n",
       "2335           2.0\n",
       "1675           1.0\n",
       "...            ...\n",
       "684            1.0\n",
       "3362           1.0\n",
       "2534           1.0\n",
       "2079           1.0\n",
       "2620           1.0\n",
       "\n",
       "[2661 rows x 1 columns]"
      ]
     },
     "execution_count": 64,
     "metadata": {},
     "output_type": "execute_result"
    }
   ],
   "source": [
    "y_train"
   ]
  },
  {
   "cell_type": "code",
   "execution_count": 70,
   "metadata": {},
   "outputs": [
    {
     "ename": "IndexError",
     "evalue": "only integers, slices (`:`), ellipsis (`...`), numpy.newaxis (`None`) and integer or boolean arrays are valid indices",
     "output_type": "error",
     "traceback": [
      "\u001b[0;31m---------------------------------------------------------------------------\u001b[0m",
      "\u001b[0;31mIndexError\u001b[0m                                Traceback (most recent call last)",
      "\u001b[0;32m<ipython-input-70-575e12064661>\u001b[0m in \u001b[0;36m<module>\u001b[0;34m\u001b[0m\n\u001b[0;32m----> 1\u001b[0;31m \u001b[0my_test\u001b[0m \u001b[0;34m=\u001b[0m \u001b[0my_test\u001b[0m\u001b[0;34m[\u001b[0m\u001b[0;34m'surge_mult_d'\u001b[0m\u001b[0;34m]\u001b[0m\u001b[0;34m.\u001b[0m\u001b[0mvalues\u001b[0m\u001b[0;34m\u001b[0m\u001b[0;34m\u001b[0m\u001b[0m\n\u001b[0m",
      "\u001b[0;31mIndexError\u001b[0m: only integers, slices (`:`), ellipsis (`...`), numpy.newaxis (`None`) and integer or boolean arrays are valid indices"
     ]
    }
   ],
   "source": [
    "y_test = y_test['surge_mult_d'].values\n"
   ]
  },
  {
   "cell_type": "code",
   "execution_count": 71,
   "metadata": {},
   "outputs": [],
   "source": [
    "y_train = y_train['surge_mult_d'].values"
   ]
  },
  {
   "cell_type": "code",
   "execution_count": 72,
   "metadata": {},
   "outputs": [
    {
     "data": {
      "text/plain": [
       "array([1., 1., 1., ..., 1., 1., 1.])"
      ]
     },
     "execution_count": 72,
     "metadata": {},
     "output_type": "execute_result"
    }
   ],
   "source": [
    "y_train"
   ]
  },
  {
   "cell_type": "code",
   "execution_count": 73,
   "metadata": {},
   "outputs": [
    {
     "data": {
      "text/plain": [
       "SVC(kernel='linear')"
      ]
     },
     "execution_count": 73,
     "metadata": {},
     "output_type": "execute_result"
    }
   ],
   "source": [
    "from sklearn.svm import SVC\n",
    "svc = SVC(kernel='linear')\n",
    "#svc.fit(x_train, y_train.values.ravel())\n",
    "svc.fit(x_train, y_train)"
   ]
  },
  {
   "cell_type": "code",
   "execution_count": 75,
   "metadata": {},
   "outputs": [
    {
     "data": {
      "text/plain": [
       "DecisionTreeClassifier()"
      ]
     },
     "execution_count": 75,
     "metadata": {},
     "output_type": "execute_result"
    }
   ],
   "source": [
    "from sklearn.tree import DecisionTreeClassifier\n",
    "dec_tree = DecisionTreeClassifier()\n",
    "#dec_tree.fit(x_train, y_train.values.ravel())\n",
    "dec_tree.fit(x_train, y_train)"
   ]
  },
  {
   "cell_type": "code",
   "execution_count": 76,
   "metadata": {},
   "outputs": [
    {
     "data": {
      "text/plain": [
       "0.9594137542277339"
      ]
     },
     "execution_count": 76,
     "metadata": {},
     "output_type": "execute_result"
    }
   ],
   "source": [
    "svc.score(x_test, y_test)\n"
   ]
  },
  {
   "cell_type": "code",
   "execution_count": 77,
   "metadata": {},
   "outputs": [
    {
     "data": {
      "text/plain": [
       "0.9526493799323562"
      ]
     },
     "execution_count": 77,
     "metadata": {},
     "output_type": "execute_result"
    }
   ],
   "source": [
    "dec_tree.score(x_test, y_test)"
   ]
  },
  {
   "cell_type": "code",
   "execution_count": null,
   "metadata": {},
   "outputs": [],
   "source": [
    "#F1 Score = 2*(Recall * Precision) / (Recall + Precision)\n",
    "#F1 score reaches its best value at 1 and worst score at 0."
   ]
  },
  {
   "cell_type": "code",
   "execution_count": 79,
   "metadata": {},
   "outputs": [],
   "source": [
    "# Import the model we are using\n",
    "from sklearn.ensemble import RandomForestClassifier\n",
    "# Instantiate model with 1000 decision trees\n",
    "rf = RandomForestClassifier(n_estimators = 10, class_weight ='balanced')\n",
    "# Train the model on training data\n",
    "rf.fit(x_train, y_train)\n",
    "y_pred = rf.predict(x_test)"
   ]
  },
  {
   "cell_type": "code",
   "execution_count": 80,
   "metadata": {},
   "outputs": [
    {
     "name": "stdout",
     "output_type": "stream",
     "text": [
      "Accuracy: 0.9267192784667418\n"
     ]
    }
   ],
   "source": [
    "#Import scikit-learn metrics module for accuracy calculation\n",
    "from sklearn import metrics\n",
    "# Model Accuracy, how often is the classifier correct?\n",
    "print(\"Accuracy:\",metrics.accuracy_score(y_test, y_pred))"
   ]
  },
  {
   "cell_type": "code",
   "execution_count": null,
   "metadata": {},
   "outputs": [],
   "source": []
  },
  {
   "cell_type": "code",
   "execution_count": 85,
   "metadata": {},
   "outputs": [
    {
     "name": "stdout",
     "output_type": "stream",
     "text": [
      "              precision    recall  f1-score   support\n",
      "\n",
      "         1.0       0.98      0.94      0.96       851\n",
      "         2.0       0.25      0.50      0.33        16\n",
      "         3.0       0.38      0.45      0.42        11\n",
      "         4.0       0.18      0.50      0.27         4\n",
      "         5.0       0.31      0.80      0.44         5\n",
      "\n",
      "    accuracy                           0.93       887\n",
      "   macro avg       0.42      0.64      0.48       887\n",
      "weighted avg       0.95      0.93      0.94       887\n",
      "\n"
     ]
    }
   ],
   "source": [
    "from sklearn.metrics import classification_report\n",
    "print(classification_report(y_test, y_pred))"
   ]
  },
  {
   "cell_type": "code",
   "execution_count": 86,
   "metadata": {},
   "outputs": [
    {
     "name": "stdout",
     "output_type": "stream",
     "text": [
      "Mean Absolute Error: 0.13 degrees.\n"
     ]
    }
   ],
   "source": [
    "# Use the forest's predict method on the test data\n",
    "predictions = rf.predict(x_train)\n",
    "# Calculate the absolute errors\n",
    "errors = abs(predictions - y_train)\n",
    "# Print out the mean absolute error (mae)\n",
    "print('Mean Absolute Error:', round(np.mean(errors), 2), 'degrees.')"
   ]
  },
  {
   "cell_type": "code",
   "execution_count": 87,
   "metadata": {},
   "outputs": [],
   "source": [
    "from sklearn.metrics import confusion_matrix\n",
    "conf_mat = confusion_matrix(y_test, \n",
    "                            y_pred)"
   ]
  },
  {
   "cell_type": "code",
   "execution_count": 88,
   "metadata": {},
   "outputs": [
    {
     "data": {
      "text/plain": [
       "array([[803,  24,   8,   9,   7],\n",
       "       [  6,   8,   0,   0,   2],\n",
       "       [  6,   0,   5,   0,   0],\n",
       "       [  2,   0,   0,   2,   0],\n",
       "       [  1,   0,   0,   0,   4]])"
      ]
     },
     "execution_count": 88,
     "metadata": {},
     "output_type": "execute_result"
    }
   ],
   "source": [
    "conf_mat"
   ]
  },
  {
   "cell_type": "code",
   "execution_count": null,
   "metadata": {},
   "outputs": [],
   "source": []
  }
 ],
 "metadata": {
  "kernelspec": {
   "display_name": "Python 3",
   "language": "python",
   "name": "python3"
  },
  "language_info": {
   "codemirror_mode": {
    "name": "ipython",
    "version": 3
   },
   "file_extension": ".py",
   "mimetype": "text/x-python",
   "name": "python",
   "nbconvert_exporter": "python",
   "pygments_lexer": "ipython3",
   "version": "3.8.8"
  },
  "papermill": {
   "duration": 17.588168,
   "end_time": "2021-01-12T04:27:53.923872",
   "environment_variables": {},
   "exception": null,
   "input_path": "__notebook__.ipynb",
   "output_path": "__notebook__.ipynb",
   "parameters": {},
   "start_time": "2021-01-12T04:27:36.335704",
   "version": "2.1.0"
  }
 },
 "nbformat": 4,
 "nbformat_minor": 4
}
